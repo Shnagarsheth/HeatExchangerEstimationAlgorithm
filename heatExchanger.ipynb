{
  "nbformat": 4,
  "nbformat_minor": 0,
  "metadata": {
    "colab": {
      "name": "heatExchanger.ipynb",
      "provenance": [],
      "collapsed_sections": [],
      "authorship_tag": "ABX9TyN6Gb2mPKMKCNFT0ujC2TAN",
      "include_colab_link": true
    },
    "kernelspec": {
      "name": "python3",
      "display_name": "Python 3"
    },
    "language_info": {
      "name": "python"
    }
  },
  "cells": [
    {
      "cell_type": "markdown",
      "metadata": {
        "id": "view-in-github",
        "colab_type": "text"
      },
      "source": [
        "<a href=\"https://colab.research.google.com/github/Shnagarsheth/HeatExchangerEstimationAlgorithm/blob/master/heatExchanger.ipynb\" target=\"_parent\"><img src=\"https://colab.research.google.com/assets/colab-badge.svg\" alt=\"Open In Colab\"/></a>"
      ]
    },
    {
      "cell_type": "markdown",
      "source": [
        "### **Heat-Exchanger Estimation Algorithm**"
      ],
      "metadata": {
        "id": "T6IZDZ4rerjf"
      }
    },
    {
      "cell_type": "code",
      "execution_count": 1,
      "metadata": {
        "id": "PCcZibQU98i5"
      },
      "outputs": [],
      "source": [
        "# Created by: Shaival Nagarsheth\n",
        "# Details:    \n",
        "# Date: "
      ]
    },
    {
      "cell_type": "code",
      "source": [
        "#Variable Declaration\n",
        "N = 1000\n",
        "T = 100\n",
        "dt = T/N\n",
        "\n",
        "#Noise Intensity\n",
        "a1 = 0.00015\n",
        "a2 = 0.0001\n",
        "a3 = 0.0001\n",
        "a4 = 0.0001\n",
        "\n",
        "#Inputs and Outputs\n",
        "fc   = float(input('Enter Input Flowrate of Cold Stream bet.n 0.002 to 0.00555 kg/s: '))\n",
        "fh   = float(input('Enter Input Flowrate of Hot Stream bet.n 0.009 to 0.02 kg/s: '))\n",
        "Tcin = int(input('Enter Input Temperature of Cold Stream bet.n 280 to 305 K: '))\n",
        "Thin = int(input('Enter Input Temperature of Hot Stream bet.n 345 to 360 K: '))\n",
        "h    = int(input('Enter Heat Transfer Coefficient: '))\n",
        "Ac   = float(input('Enter Cross-sectional Area of Cold Stream: '))\n",
        "Ah   = float(input('Enter Cross-sectional Area Hot Stream: '))\n",
        "mc   = float(input('Enter mass Cold Stream: '))\n",
        "mh   = float(input('Enter mass Hot Stream: '))\n",
        "Cpc  = float(input('Specific Heat of Cold Stream: '))\n",
        "Cph  = float(input('Specific Heat of Hot Stream: '))\n",
        "r    = int(input('Noise Coefficient: '))"
      ],
      "metadata": {
        "id": "WWHVXP2feoa5"
      },
      "execution_count": null,
      "outputs": []
    },
    {
      "cell_type": "code",
      "source": [
        "#Initialization\n",
        "import array as arr\n",
        "x1 = []\n",
        "x2 = []\n",
        "x1.append(298)\n",
        "x2.append(353)"
      ],
      "metadata": {
        "id": "ikiTaGWPfSw_"
      },
      "execution_count": 18,
      "outputs": []
    },
    {
      "cell_type": "code",
      "source": [
        "for i in range(0,10):\n",
        "  x1.append(x1[i] + 5)"
      ],
      "metadata": {
        "id": "k3axpuerlgRm"
      },
      "execution_count": 26,
      "outputs": []
    },
    {
      "cell_type": "code",
      "source": [
        "x1"
      ],
      "metadata": {
        "colab": {
          "base_uri": "https://localhost:8080/"
        },
        "id": "JKv_gAhqmLw2",
        "outputId": "877346f4-1e5b-4893-d4ef-41417e21ff40"
      },
      "execution_count": 27,
      "outputs": [
        {
          "output_type": "execute_result",
          "data": {
            "text/plain": [
              "[298, 303, 308, 313, 318, 323, 328, 333, 338, 343, 348]"
            ]
          },
          "metadata": {},
          "execution_count": 27
        }
      ]
    },
    {
      "cell_type": "code",
      "source": [
        ""
      ],
      "metadata": {
        "id": "FcXaudtLnFwm"
      },
      "execution_count": null,
      "outputs": []
    }
  ]
}