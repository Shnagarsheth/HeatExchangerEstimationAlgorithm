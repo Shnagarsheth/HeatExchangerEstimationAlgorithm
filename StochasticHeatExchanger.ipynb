{
  "nbformat": 4,
  "nbformat_minor": 0,
  "metadata": {
    "colab": {
      "name": "StochasticHeatExchanger.ipynb",
      "provenance": [],
      "collapsed_sections": [],
      "authorship_tag": "ABX9TyO17FhipRybF43DcKThhbIO",
      "include_colab_link": true
    },
    "kernelspec": {
      "name": "python3",
      "display_name": "Python 3"
    },
    "language_info": {
      "name": "python"
    }
  },
  "cells": [
    {
      "cell_type": "markdown",
      "metadata": {
        "id": "view-in-github",
        "colab_type": "text"
      },
      "source": [
        "<a href=\"https://colab.research.google.com/github/Shnagarsheth/HeatExchangerEstimationAlgorithm/blob/master/StochasticHeatExchanger.ipynb\" target=\"_parent\"><img src=\"https://colab.research.google.com/assets/colab-badge.svg\" alt=\"Open In Colab\"/></a>"
      ]
    },
    {
      "cell_type": "markdown",
      "source": [
        "## **Heat-Exchanger**\n",
        "### **Evolution of Stochastic Differential Equations**\n"
      ],
      "metadata": {
        "id": "T6IZDZ4rerjf"
      }
    },
    {
      "cell_type": "code",
      "source": [
        "# Created by: Shaival Nagarsheth\n",
        "# Details: V0.1 contains The evolution of Stochastic differential equation governing the dynamics of water tube heat exchanger\n",
        "# Date: \n",
        "# Version: 0.1\n",
        "\n",
        "#Including libraries\n",
        "import numpy as np\n",
        "import matplotlib.pyplot as plt\n",
        "import array as arr\n",
        "import math\n",
        "\n",
        "#Variable Declaration\n",
        "N = 1000\n",
        "T = 100\n",
        "dt = T/N\n",
        "\n",
        "#Noise Intensity\n",
        "a1 = 0.0002\n",
        "a2 = 0.0002\n",
        "a3 = 0.0002\n",
        "a4 = 0.0002\n",
        "\n",
        "#Inputs and Outputs\n",
        "fc   = float(input('Enter Input Flowrate of Cold Stream bet.n 0.002 to 0.00555 kg/s: '))\n",
        "fh   = float(input('Enter Input Flowrate of Hot Stream bet.n 0.009 to 0.02 kg/s: '))\n",
        "Tcin = int(input('Enter Input Temperature of Cold Stream bet.n 280 to 305 K: '))\n",
        "Thin = int(input('Enter Input Temperature of Hot Stream bet.n 345 to 360 K: '))\n",
        "h    = int(input('Enter Heat Transfer Coefficient: '))\n",
        "Ac   = float(input('Enter Cross-sectional Area of Cold Stream: '))\n",
        "Ah   = float(input('Enter Cross-sectional Area Hot Stream: '))\n",
        "mc   = float(input('Enter mass Cold Stream: '))\n",
        "mh   = float(input('Enter mass Hot Stream: '))\n",
        "Cpc  = float(input('Specific Heat of Cold Stream: '))\n",
        "Cph  = float(input('Specific Heat of Hot Stream: '))\n",
        "r    = int(input('Noise Coefficient: '))\n",
        "\n",
        "#Gaussian-Noise specificaitons for\n",
        "mu,sd = 0,2\n",
        "\n",
        "#Initialization\n",
        "x1 = []\n",
        "x2 = []\n",
        "x1.append(298)\n",
        "x2.append(353) \n",
        "\n",
        "for i in range(0,999):\n",
        "  dW1=(np.random.normal(mu,sd))*(math.sqrt(dt))\n",
        "  dW2=(np.random.normal(mu,sd))*(math.sqrt(dt))\n",
        "  dW3=(np.random.normal(mu,sd))*(math.sqrt(dt))\n",
        "  dW4=(np.random.normal(mu,sd))*(math.sqrt(dt))\n",
        "  x1.append(x1[i] +(((((fc/mc)*(Tcin-x1[i]))+(((h*Ac)/(mc*Cpc))*(x2[i]-x1[i])))*dt)+((a1*((Tcin-x1[i])/mc))*dW1)+(a2*(fc/mc)*dW2))) #Dynamic stochastic differential equation of the Heat-Exchanger\n",
        "  x2.append(x2[i]+(((((fh/mh)*(Thin-x2[i]))-(((h*Ah)/(mh*Cph))*(x2[i]-x1[i])))*dt)+((a3*((Thin-x2[i])/mh))*dW3)+(a4*(fh/mh)*dW4)))\n",
        "\n",
        "t = np.arange(0,100,0.1)\n",
        "\n",
        "#fig, (ax0, ax1) = plt.subplots(2, 1)\n",
        "#ax0.plot(t,x1,'b',linewidth=2.0)\n",
        "#ax1.plot(t,x2,'r--',linewidth=2.0)\n",
        "\n",
        "plt.figure(dpi=150)\n",
        "plt.plot(t,x2,'r',linewidth=2.0)\n",
        "plt.plot(t,x1,'b',linewidth=2.0)\n",
        "plt.title('Stochastic (SDE) Simulation of Heat-Exchanger')\n",
        "plt.xlabel('Time (s)')\n",
        "plt.ylabel('Hot and Cold Stream Temperature (K)')\n",
        "plt.grid(True)\n",
        "plt.show()"
      ],
      "metadata": {
        "id": "V3NGsTLb2-J4"
      },
      "execution_count": null,
      "outputs": []
    }
  ]
}